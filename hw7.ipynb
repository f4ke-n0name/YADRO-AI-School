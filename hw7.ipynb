{
  "cells": [
    {
      "cell_type": "markdown",
      "id": "b7f85915",
      "metadata": {
        "id": "b7f85915"
      },
      "source": [
        "# Работа с ресурсами"
      ]
    },
    {
      "cell_type": "markdown",
      "id": "9c7c136e",
      "metadata": {
        "id": "9c7c136e"
      },
      "source": [
        "## Порядок сдачи домашнего"
      ]
    },
    {
      "cell_type": "markdown",
      "id": "0799026a",
      "metadata": {
        "ExecuteTime": {
          "end_time": "2024-11-03T13:23:48.609956Z",
          "start_time": "2024-11-03T13:23:48.581564Z"
        },
        "id": "0799026a"
      },
      "source": [
        "Под каждое домашнее вы создаете отдельную ветку куда вносите все изменения в рамках домашнего. Как только домашнее готово - создаете пулл реквест (обратите внимание что в пулл реквесте должны быть отражены все изменения в рамках домашнего). Ревьювера назначаете из таблицы - https://docs.google.com/spreadsheets/d/1vK6IgEqaqXniUJAQOOspiL_tx3EYTSXW1cUrMHAZFr8/edit?gid=0#gid=0\n",
        "Перед сдачей проверьте код, напишите тесты. Не забудьте про PEP8, например, с помощью flake8. Задание нужно делать в jupyter notebook.\n",
        "\n",
        "**Дедлайн - 14 ноября 10:00**"
      ]
    },
    {
      "cell_type": "markdown",
      "source": [
        "# **Абдульминев Данил Русланович**\n"
      ],
      "metadata": {
        "id": "rKBZRvi5jZFh"
      },
      "id": "rKBZRvi5jZFh"
    },
    {
      "cell_type": "markdown",
      "id": "39ca02a1",
      "metadata": {
        "id": "39ca02a1"
      },
      "source": [
        "# Менеджер контекста для смены директории (cd)"
      ]
    },
    {
      "cell_type": "markdown",
      "id": "eead1ca2",
      "metadata": {
        "id": "eead1ca2"
      },
      "source": [
        "Напишите класс менеджера контекста ChangeDir, который временно меняет текущую рабочую директорию на заданную. После выхода из контекста рабочая директория должна вернуться к предыдущей.\n",
        "\n",
        "**Условия:**\n",
        "1.\tПри входе в блок with менеджер контекста должен изменить текущую директорию на указанную.\n",
        "2.\tПри выходе из блока with менеджер контекста должен вернуть рабочую директорию на исходное значение.\n",
        "3.\tОбработайте ситуацию, когда указанный путь не существует, с выводом сообщения об ошибке.\n",
        "\n",
        "**Пример:**\n",
        "\n",
        "```python\n",
        "import os\n",
        "\n",
        "print(\"Начальная директория:\", os.getcwd())\n",
        "\n",
        "try:\n",
        "    with ChangeDir(\"/path/to/new/directory\"):\n",
        "        print(\"Внутри менеджера:\", os.getcwd())\n",
        "except FileNotFoundError as e:\n",
        "    print(e)\n",
        "\n",
        "print(\"После выхода:\", os.getcwd())\n",
        "\n",
        "Начальная директория: /Users/jdima/Apps/teaching/lectures/python/2024/itmo/7. manager context/homework\n",
        "Ошибка: Директория '/path/to/new/directory' не существует.\n",
        "Директория '/path/to/new/directory' не найдена.\n",
        "После выхода: /Users/jdima/Apps/teaching/lectures/python/2024/itmo/7. manager context/homework\n",
        "```"
      ]
    },
    {
      "cell_type": "code",
      "execution_count": 1,
      "id": "239b51fd",
      "metadata": {
        "colab": {
          "base_uri": "https://localhost:8080/"
        },
        "id": "239b51fd",
        "outputId": "84b354de-e8cd-4bec-9602-2d12e5dd7df5"
      },
      "outputs": [
        {
          "output_type": "stream",
          "name": "stdout",
          "text": [
            "Начальная директория: /content\n",
            "Ошибка: Директория '/path/to/new/directory' не существует.\n",
            "Директория '/path/to/new/directory' не найдена.\n",
            "После выхода: /content\n"
          ]
        }
      ],
      "source": [
        "import os\n",
        "\n",
        "class ChangeDir:\n",
        "    def __init__(self, path):\n",
        "        self.path = path\n",
        "        self.original_path = os.getcwd()\n",
        "\n",
        "    def __enter__(self):\n",
        "        if not os.path.exists(self.path):\n",
        "            raise FileNotFoundError(f\"Ошибка: Директория '{self.path}' не существует.\\nДиректория '{self.path}' не найдена.\")\n",
        "        os.chdir(self.path)\n",
        "\n",
        "    def __exit__(self, exc_type, exc_value, exc_traceback):\n",
        "        os.chdir(self.original_path)\n",
        "\n",
        "print(\"Начальная директория:\", os.getcwd())\n",
        "\n",
        "try:\n",
        "    with ChangeDir(\"/path/to/new/directory\"):\n",
        "        print(\"Внутри менеджера:\", os.getcwd())\n",
        "except FileNotFoundError as e:\n",
        "    print(e)\n",
        "\n",
        "print(\"После выхода:\", os.getcwd())"
      ]
    },
    {
      "cell_type": "markdown",
      "id": "5addad6c",
      "metadata": {
        "id": "5addad6c"
      },
      "source": [
        "# Перенаправления вывода в файл"
      ]
    },
    {
      "cell_type": "markdown",
      "id": "4c199e6e",
      "metadata": {
        "id": "4c199e6e"
      },
      "source": [
        "Напишите класс менеджера контекста RedirectOutput, который временно перенаправляет стандартный поток вывода stdout в указанный файл. После выхода из контекста вывод должен возвращаться в стандартный поток.\n",
        "\n",
        "**Условия:**\n",
        "\n",
        "1.\tПри входе в блок with менеджер контекста должен перенаправить вывод print в файл, указанный при создании объекта.\n",
        "2.\tПри выходе из блока with вывод должен возвращаться в стандартный поток.\n",
        "3.\tЕсли файл уже существует, вывод должен дописываться к нему, а не перезаписывать его.\n",
        "\n",
        "**Пример:**\n",
        "```python\n",
        "print(\"Это стандартный вывод\")  # Должно выводиться в консоль\n",
        "\n",
        "with RedirectOutput(\"output.txt\"):\n",
        "    print(\"Это вывод в файл\")   # Должно записываться в файл \"output.txt\"\n",
        "\n",
        "print(\"Снова стандартный вывод\")  # Должно выводиться в консоль\n",
        "```\n"
      ]
    },
    {
      "cell_type": "code",
      "execution_count": null,
      "id": "81acc7b5",
      "metadata": {
        "id": "81acc7b5"
      },
      "outputs": [],
      "source": [
        "#self.file = open(self.filename, 'a')\n",
        "#sys.stdout = self.file  # Перенаправляем stdout в файл"
      ]
    },
    {
      "cell_type": "code",
      "execution_count": 3,
      "id": "abf13f3f",
      "metadata": {
        "colab": {
          "base_uri": "https://localhost:8080/"
        },
        "id": "abf13f3f",
        "outputId": "4792a6f5-3f6c-4792-fc7f-3ea14907922b"
      },
      "outputs": [
        {
          "output_type": "stream",
          "name": "stdout",
          "text": [
            "Это стандартный вывод\n",
            "Снова стандартный вывод\n"
          ]
        }
      ],
      "source": [
        "import sys\n",
        "\n",
        "class RedirectOutput:\n",
        "    def __init__(self, filename):\n",
        "        self.filename = filename\n",
        "        self.original_out = sys.stdout\n",
        "\n",
        "    def __enter__(self):\n",
        "        self.file = open(self.filename, 'a')\n",
        "        sys.stdout = self.file\n",
        "\n",
        "    def __exit__(self, exc_type, exc_value, exc_traceback):\n",
        "        sys.stdout = self.original_out\n",
        "        self.file.close()\n",
        "\n",
        "# Пример использования\n",
        "print(\"Это стандартный вывод\")  # Должно выводиться в консоль\n",
        "\n",
        "with RedirectOutput(\"output.txt\"):\n",
        "    print(\"Это вывод в файл\")   # Должно записываться в файл \"output.txt\"\n",
        "\n",
        "print(\"Снова стандартный вывод\")  # Должно выводиться в консоль"
      ]
    },
    {
      "cell_type": "markdown",
      "id": "5521fc72",
      "metadata": {
        "id": "5521fc72"
      },
      "source": [
        "# Замер времени выполнения кода"
      ]
    },
    {
      "cell_type": "markdown",
      "id": "dcdd1880",
      "metadata": {
        "ExecuteTime": {
          "end_time": "2024-10-31T14:19:37.856022Z",
          "start_time": "2024-10-31T14:19:37.835554Z"
        },
        "id": "dcdd1880"
      },
      "source": [
        "Напишите класс менеджера контекста Timer, который замеряет время выполнения кода внутри блока with. Менеджер должен выводить время выполнения в консоль по завершении блока. Для замера времени используйте модуль time.\n",
        "\n",
        "**Условия:**\n",
        "1. При входе в блок with менеджер контекста должен начинать отсчёт времени.\n",
        "2. При выходе из блока with менеджер должен выводить в консоль время выполнения кода внутри блока в формате \"Время выполнения: X.XXX секунд\".\n",
        "3. Опционально: добавить возможность передавать имя таймера при инициализации, чтобы можно было различать результаты замеров, если их несколько.\n",
        "\n",
        "**Пример:**\n",
        "```python\n",
        "import time\n",
        "\n",
        "with Timer(\"Задача 1\"):\n",
        "    time.sleep(1)  # Симуляция работы кода\n",
        "[Задача 1] Время выполнения: 1.001 секунд\n",
        "    \n",
        "with Timer(\"Задача 2\"):\n",
        "    for i in range(1000000):\n",
        "        pass\n",
        "[Задача 2] Время выполнения: 0.034 секунд\n",
        "```"
      ]
    },
    {
      "cell_type": "code",
      "execution_count": 4,
      "id": "0034913b",
      "metadata": {
        "colab": {
          "base_uri": "https://localhost:8080/"
        },
        "id": "0034913b",
        "outputId": "99a90755-49c6-469c-a0af-ba12f113046e"
      },
      "outputs": [
        {
          "output_type": "stream",
          "name": "stdout",
          "text": [
            "[Задача 1] Время выполнения: 1.001 секунд\n",
            "[Задача 2] Время выполнения: 0.044 секунд\n"
          ]
        }
      ],
      "source": [
        "import time\n",
        "\n",
        "class Timer:\n",
        "    def __init__(self, name=\"\"):\n",
        "        self.name = name\n",
        "\n",
        "    def __enter__(self):\n",
        "        self.start_time = time.time()\n",
        "\n",
        "    def __exit__(self, exc_type, exc_val, exc_tb):\n",
        "        end_time = time.time()\n",
        "        delta_time = end_time - self.start_time\n",
        "        if self.name:\n",
        "            print(f\"[{self.name}] Время выполнения: {delta_time:.3f} секунд\")\n",
        "        else:\n",
        "            print(f\"Время выполнения: {delta_time:.3f} секунд\")\n",
        "\n",
        "# Пример использования\n",
        "with Timer(\"Задача 1\"):\n",
        "    time.sleep(1)  # Симуляция работы кода\n",
        "\n",
        "with Timer(\"Задача 2\"):\n",
        "    for i in range(1000000):\n",
        "        pass"
      ]
    },
    {
      "cell_type": "markdown",
      "id": "ef8887ce",
      "metadata": {
        "id": "ef8887ce"
      },
      "source": [
        "# Поглощение исключения"
      ]
    },
    {
      "cell_type": "markdown",
      "id": "f02320f4",
      "metadata": {
        "id": "f02320f4"
      },
      "source": [
        "Напишите класс менеджера контекста SuppressExceptions, который подавляет указанные исключения внутри блока with, не прерывая выполнение программы. Если в блоке возникает исключение, которое не входит в список подавляемых, оно должно быть выброшено обычным образом.\n",
        "\n",
        "**Условия:**\n",
        "1.\tПри инициализации менеджера контекста нужно передавать типы исключений, которые будут подавляться.\n",
        "2.\tЕсли в блоке with возникает исключение из списка подавляемых, оно должно игнорироваться.\n",
        "3.\tЕсли возникает исключение, не входящее в список, оно должно быть выброшено.\n",
        "4.\tОпционально: после подавления исключения вывести сообщение о том, какое исключение было подавлено.\n",
        "\n",
        "\n",
        "**Пример:**\n",
        "```python\n",
        "with SuppressExceptions(ZeroDivisionError, ValueError):\n",
        "    print(1 / 0)  # Это исключение будет подавлено\n",
        "\n",
        "with SuppressExceptions(TypeError):\n",
        "    print(1 + \"2\")  # Это исключение будет подавлено\n",
        "\n",
        "with SuppressExceptions(IndexError):\n",
        "    print([1, 2, 3][5])  # Это исключение будет подавлено\n",
        "\n",
        "print(\"Программа продолжает работать после блока with\")\n",
        "```"
      ]
    },
    {
      "cell_type": "code",
      "execution_count": 7,
      "id": "3603cdfd",
      "metadata": {
        "colab": {
          "base_uri": "https://localhost:8080/"
        },
        "id": "3603cdfd",
        "outputId": "b8e87a69-3c32-45b5-cb36-0c192512daf7"
      },
      "outputs": [
        {
          "output_type": "stream",
          "name": "stdout",
          "text": [
            "Подавлено исключение: division by zero\n",
            "Подавлено исключение: unsupported operand type(s) for +: 'int' and 'str'\n",
            "Подавлено исключение: list index out of range\n",
            "Программа продолжает работать после блока with\n"
          ]
        }
      ],
      "source": [
        "class SuppressExceptions:\n",
        "    def __init__(self, *exceptions):\n",
        "        self.exceptions = exceptions\n",
        "\n",
        "    def __enter__(self):\n",
        "        pass\n",
        "\n",
        "    def __exit__(self, exc_type, exc_val, exc_tb):\n",
        "        if exc_type is not None:\n",
        "            if issubclass(exc_type, self.exceptions):\n",
        "                print(f\"Подавлено исключение: {exc_val}\")\n",
        "                return True\n",
        "        return False\n",
        "\n",
        "# Пример использования\n",
        "with SuppressExceptions(ZeroDivisionError, ValueError):\n",
        "    print(1 / 0)  # Это исключение будет подавлено\n",
        "\n",
        "with SuppressExceptions(TypeError):\n",
        "    print(1 + \"2\")  # Это исключение будет подавлено\n",
        "\n",
        "with SuppressExceptions(IndexError):\n",
        "    print([1, 2, 3][5])  # Это исключение будет подавлено\n",
        "\n",
        "print(\"Программа продолжает работать после блока with\")"
      ]
    },
    {
      "cell_type": "markdown",
      "id": "7936b581",
      "metadata": {
        "id": "7936b581"
      },
      "source": [
        "# Создание временного файла\n",
        "Напишите класс менеджера контекста TemporaryFile, который создаёт временный файл при входе в контекст и автоматически удаляет его при выходе. Менеджер должен позволять записывать и читать данные из файла в течение его существования в контексте.\n",
        "\n",
        "**Условия:**\n",
        "1.\tПри входе в блок with менеджер должен создавать временный файл и возвращать его объект для записи и чтения.\n",
        "2.\tПри выходе из блока with временный файл должен автоматически удаляться.\n",
        "3.\tИмя файла должно быть уникальным и генерироваться автоматически.\n",
        "\n",
        "**Пример**\n",
        "```python\n",
        "with TemporaryFile() as temp_file:\n",
        "    temp_file.write(b\"Временные данные\\n\")  # Записываем данные\n",
        "    temp_file.seek(0)  # Возвращаемся в начало файла\n",
        "    print(temp_file.read())  # Читаем данные из временного файла\n",
        "\n",
        "print(\"Файл автоматически удалён\")\n",
        "```"
      ]
    },
    {
      "cell_type": "code",
      "execution_count": 16,
      "id": "0c7aacf0",
      "metadata": {
        "colab": {
          "base_uri": "https://localhost:8080/"
        },
        "id": "0c7aacf0",
        "outputId": "ab90b938-3675-4956-a47a-b354a54fd4ad"
      },
      "outputs": [
        {
          "output_type": "stream",
          "name": "stdout",
          "text": [
            "Временные данные\n",
            "\n",
            "Файл автоматически удалён\n"
          ]
        }
      ],
      "source": [
        "import os\n",
        "import time\n",
        "import random\n",
        "\n",
        "class TemporaryFile:\n",
        "    def __init__(self):\n",
        "        self.temp_file = None\n",
        "        self.file_path = None\n",
        "\n",
        "    def __enter__(self):\n",
        "        temp_time = int(time.time() * 1000)\n",
        "        self.file_path = f\"temp_{temp_time}.tmp\"\n",
        "        self.temp_file = open(self.file_path, 'w+', encoding='utf-8')\n",
        "        return self.temp_file\n",
        "\n",
        "    def __exit__(self, exc_type, exc_value, exc_traceback):\n",
        "        if self.temp_file:\n",
        "            self.temp_file.close()\n",
        "        if self.file_path and os.path.exists(self.file_path):\n",
        "            os.remove(self.file_path)\n",
        "\n",
        "\n",
        "# Пример использования\n",
        "with TemporaryFile() as temp_file:\n",
        "    temp_file.write(\"Временные данные\\n\")  # Записываем данные\n",
        "    temp_file.seek(0)  # Возвращаемся в начало файла\n",
        "    print(temp_file.read())  # Читаем данные из временного файла\n",
        "\n",
        "print(\"Файл автоматически удалён\")"
      ]
    }
  ],
  "metadata": {
    "kernelspec": {
      "display_name": "Python 3 (ipykernel)",
      "language": "python",
      "name": "python3"
    },
    "language_info": {
      "codemirror_mode": {
        "name": "ipython",
        "version": 3
      },
      "file_extension": ".py",
      "mimetype": "text/x-python",
      "name": "python",
      "nbconvert_exporter": "python",
      "pygments_lexer": "ipython3",
      "version": "3.9.7"
    },
    "colab": {
      "provenance": []
    }
  },
  "nbformat": 4,
  "nbformat_minor": 5
}